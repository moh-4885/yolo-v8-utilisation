{
 "cells": [
  {
   "cell_type": "code",
   "execution_count": 2,
   "metadata": {},
   "outputs": [
    {
     "name": "stderr",
     "output_type": "stream",
     "text": [
      "Ultralytics YOLOv8.0.26  Python-3.10.6 torch-2.4.0+cu124 CUDA:0 (NVIDIA GeForce RTX 3060 Laptop GPU, 6144MiB)\n",
      "YOLOv8l summary (fused): 268 layers, 43668288 parameters, 0 gradients, 165.2 GFLOPs\n",
      "\n",
      "image 1/1 D:\\ml project\\cv\\object detection\\real time od with yolo\\images\\bus.jpg: 480x640 5 persons, 1 bus, 2 backpacks, 1 handbag, 99.8ms\n",
      "Speed: 4.4ms pre-process, 99.8ms inference, 327.3ms postprocess per image at shape (1, 3, 640, 640)\n"
     ]
    },
    {
     "name": "stdout",
     "output_type": "stream",
     "text": [
      "[Ultralytics YOLO <class 'ultralytics.yolo.engine.results.Boxes'> masks\n",
      "type: <class 'torch.Tensor'>\n",
      "shape: torch.Size([9, 6])\n",
      "dtype: torch.float32\n",
      " + tensor([[1.25100e+03, 3.13000e+02, 1.94900e+03, 1.56200e+03, 9.17806e-01, 0.00000e+00],\n",
      "        [8.43000e+02, 4.87000e+02, 1.27400e+03, 1.52600e+03, 9.12715e-01, 0.00000e+00],\n",
      "        [3.44000e+02, 5.88000e+02, 6.66000e+02, 1.53000e+03, 9.12091e-01, 0.00000e+00],\n",
      "        [4.00000e+00, 2.00000e+00, 2.23700e+03, 1.29300e+03, 8.82743e-01, 5.00000e+00],\n",
      "        [8.20000e+01, 5.15000e+02, 3.79000e+02, 1.47300e+03, 8.55787e-01, 0.00000e+00],\n",
      "        [8.45000e+02, 7.45000e+02, 1.08000e+03, 1.11000e+03, 7.17089e-01, 2.60000e+01],\n",
      "        [0.00000e+00, 5.82000e+02, 5.10000e+01, 1.38700e+03, 6.96339e-01, 0.00000e+00],\n",
      "        [2.47000e+02, 7.94000e+02, 4.87000e+02, 1.18700e+03, 6.78771e-01, 2.40000e+01],\n",
      "        [3.60000e+01, 6.85000e+02, 2.25000e+02, 1.00900e+03, 5.90023e-01, 2.40000e+01]], device='cuda:0')]\n"
     ]
    }
   ],
   "source": [
    "from ultralytics import YOLO\n",
    "import cv2\n",
    "\n",
    "\n",
    "model=YOLO(\"models/yolov8l.pt\")\n",
    "\n",
    "\n",
    "\n",
    "result=model.predict(\"images/bus.jpg\")\n",
    "\n",
    "\n"
   ]
  },
  {
   "cell_type": "code",
   "execution_count": 9,
   "metadata": {},
   "outputs": [
    {
     "data": {
      "text/plain": [
       "'8.0.26'"
      ]
     },
     "execution_count": 9,
     "metadata": {},
     "output_type": "execute_result"
    }
   ],
   "source": [
    "import ultralytics \n",
    "ultralytics.__version__"
   ]
  },
  {
   "cell_type": "code",
   "execution_count": 15,
   "metadata": {},
   "outputs": [
    {
     "data": {
      "text/plain": [
       "array([[[255, 255, 255],\n",
       "        [255, 255, 255],\n",
       "        [255, 255, 255],\n",
       "        ...,\n",
       "        [  0,   0,   0],\n",
       "        [  0,   0,   0],\n",
       "        [  0,   0,   0]],\n",
       "\n",
       "       [[255, 255, 255],\n",
       "        [255, 255, 255],\n",
       "        [255, 255, 255],\n",
       "        ...,\n",
       "        [  0,   0,   0],\n",
       "        [  0,   0,   0],\n",
       "        [  0,   0,   0]],\n",
       "\n",
       "       [[255, 255, 255],\n",
       "        [255, 255, 255],\n",
       "        [255, 255, 255],\n",
       "        ...,\n",
       "        [  0,   0,   0],\n",
       "        [  0,   0,   0],\n",
       "        [  0,   0,   0]],\n",
       "\n",
       "       ...,\n",
       "\n",
       "       [[  0,   0,   0],\n",
       "        [  0,   0,   0],\n",
       "        [  0,   0,   0],\n",
       "        ...,\n",
       "        [  0,   0,   0],\n",
       "        [  0,   0,   0],\n",
       "        [  0,   0,   0]],\n",
       "\n",
       "       [[  0,   0,   0],\n",
       "        [  0,   0,   0],\n",
       "        [  0,   0,   0],\n",
       "        ...,\n",
       "        [  0,   0,   0],\n",
       "        [  0,   0,   0],\n",
       "        [  0,   0,   0]],\n",
       "\n",
       "       [[  0,   0,   0],\n",
       "        [  0,   0,   0],\n",
       "        [  0,   0,   0],\n",
       "        ...,\n",
       "        [  0,   0,   0],\n",
       "        [  0,   0,   0],\n",
       "        [  0,   0,   0]]], dtype=uint8)"
      ]
     },
     "execution_count": 15,
     "metadata": {},
     "output_type": "execute_result"
    }
   ],
   "source": [
    "import cv2 \n",
    "image=cv2.imread(\"./images/elivator_mask.png\")\n",
    "image=cv2.cvtColor(image,cv2.COLOR_BGR2RGB)\n",
    "image=cv2.resize(image,(1280,720))\n",
    "image\n"
   ]
  },
  {
   "cell_type": "code",
   "execution_count": 18,
   "metadata": {},
   "outputs": [
    {
     "data": {
      "text/plain": [
       "True"
      ]
     },
     "execution_count": 18,
     "metadata": {},
     "output_type": "execute_result"
    },
    {
     "ename": "",
     "evalue": "",
     "output_type": "error",
     "traceback": [
      "\u001b[1;31mThe Kernel crashed while executing code in the current cell or a previous cell. \n",
      "\u001b[1;31mPlease review the code in the cell(s) to identify a possible cause of the failure. \n",
      "\u001b[1;31mClick <a href='https://aka.ms/vscodeJupyterKernelCrash'>here</a> for more info. \n",
      "\u001b[1;31mView Jupyter <a href='command:jupyter.viewOutput'>log</a> for further details."
     ]
    }
   ],
   "source": [
    "cv2.imwrite(\"re_mask.png\",image)"
   ]
  },
  {
   "cell_type": "code",
   "execution_count": 5,
   "metadata": {},
   "outputs": [],
   "source": [
    "moh[\"aamine\"]=3"
   ]
  },
  {
   "cell_type": "code",
   "execution_count": 13,
   "metadata": {},
   "outputs": [
    {
     "data": {
      "text/plain": [
       "(720, 1280, 3)"
      ]
     },
     "execution_count": 13,
     "metadata": {},
     "output_type": "execute_result"
    }
   ],
   "source": [
    "cap=cv2.VideoCapture(\"./videos/people.mp4\")\n",
    "succ,img=cap.read()\n",
    "img.shape"
   ]
  },
  {
   "cell_type": "code",
   "execution_count": 14,
   "metadata": {},
   "outputs": [
    {
     "data": {
      "text/plain": [
       "True"
      ]
     },
     "execution_count": 14,
     "metadata": {},
     "output_type": "execute_result"
    }
   ],
   "source": [
    "succ"
   ]
  },
  {
   "cell_type": "code",
   "execution_count": 1,
   "metadata": {},
   "outputs": [
    {
     "name": "stdout",
     "output_type": "stream",
     "text": [
      "Package                      Version\n",
      "---------------------------- ------------\n",
      "absl-py                      2.1.0\n",
      "afinn                        0.1\n",
      "altair                       5.2.0\n",
      "annotated-types              0.6.0\n",
      "anyio                        4.0.0\n",
      "appdirs                      1.4.4\n",
      "apyori                       1.1.2\n",
      "argcomplete                  1.10.3\n",
      "argon2-cffi                  23.1.0\n",
      "argon2-cffi-bindings         21.2.0\n",
      "arrow                        1.3.0\n",
      "asttokens                    2.4.0\n",
      "astunparse                   1.6.3\n",
      "async-lru                    2.0.4\n",
      "async-timeout                4.0.3\n",
      "attrs                        23.1.0\n",
      "Babel                        2.13.0\n",
      "backcall                     0.2.0\n",
      "beautifulsoup4               4.12.3\n",
      "bleach                       6.1.0\n",
      "blinker                      1.7.0\n",
      "blis                         0.7.11\n",
      "cachetools                   5.3.2\n",
      "catalogue                    2.0.10\n",
      "certifi                      2023.7.22\n",
      "cffi                         1.16.0\n",
      "chardet                      3.0.4\n",
      "charset-normalizer           3.3.0\n",
      "click                        8.1.7\n",
      "cloudpathlib                 0.16.0\n",
      "colorama                     0.4.6\n",
      "comm                         0.1.4\n",
      "compressed-rtf               1.0.6\n",
      "confection                   0.1.4\n",
      "contourpy                    1.1.1\n",
      "cycler                       0.12.1\n",
      "cymem                        2.0.8\n",
      "dacite                       1.8.1\n",
      "debugpy                      1.8.0\n",
      "decorator                    5.1.1\n",
      "defusedxml                   0.7.1\n",
      "docx2txt                     0.8\n",
      "dython                       0.7.4\n",
      "ebcdic                       1.1.1\n",
      "en-core-web-sm               3.7.1\n",
      "et-xmlfile                   1.1.0\n",
      "exceptiongroup               1.1.3\n",
      "executing                    2.0.0\n",
      "extract-msg                  0.28.7\n",
      "fastapi                      0.108.0\n",
      "fastjsonschema               2.18.1\n",
      "filelock                     3.13.1\n",
      "flatbuffers                  23.5.26\n",
      "fontawesomefree              6.5.1\n",
      "fonttools                    4.43.1\n",
      "fqdn                         1.5.1\n",
      "frozendict                   2.4.0\n",
      "fsspec                       2023.12.2\n",
      "gast                         0.5.4\n",
      "gensim                       4.3.2\n",
      "gitdb                        4.0.11\n",
      "GitPython                    3.1.41\n",
      "google-auth                  2.28.1\n",
      "google-auth-oauthlib         1.0.0\n",
      "google-pasta                 0.2.0\n",
      "greenlet                     3.0.3\n",
      "grpcio                       1.62.0\n",
      "h11                          0.14.0\n",
      "h5py                         3.10.0\n",
      "html5lib                     1.1\n",
      "htmlmin                      0.1.12\n",
      "httpcore                     1.0.5\n",
      "httptools                    0.6.1\n",
      "httpx                        0.27.0\n",
      "huggingface-hub              0.23.0\n",
      "idna                         3.4\n",
      "ImageHash                    4.3.1\n",
      "imageio                      2.33.1\n",
      "IMAPClient                   2.1.0\n",
      "imbalanced-learn             0.12.0\n",
      "imblearn                     0.0\n",
      "importlib-metadata           7.0.1\n",
      "ipykernel                    6.25.2\n",
      "ipython                      8.16.1\n",
      "ipywidgets                   8.1.1\n",
      "isoduration                  20.11.0\n",
      "jedi                         0.19.1\n",
      "Jinja2                       3.1.2\n",
      "joblib                       1.3.2\n",
      "json5                        0.9.14\n",
      "jsonpointer                  2.4\n",
      "jsonschema                   4.19.1\n",
      "jsonschema-specifications    2023.7.1\n",
      "jupyter_client               8.4.0\n",
      "jupyter_core                 5.4.0\n",
      "jupyter-events               0.7.0\n",
      "jupyter-lsp                  2.2.0\n",
      "jupyter_server               2.7.3\n",
      "jupyter_server_terminals     0.4.4\n",
      "jupyterlab                   4.1.5\n",
      "jupyterlab-pygments          0.2.2\n",
      "jupyterlab_server            2.25.0\n",
      "jupyterlab-widgets           3.0.9\n",
      "keras                        3.3.3\n",
      "kiwisolver                   1.4.5\n",
      "langcodes                    3.3.0\n",
      "lap                          0.4.0\n",
      "lazy_loader                  0.3\n",
      "libclang                     16.0.6\n",
      "lief                         0.12.0\n",
      "lightgbm                     4.3.0\n",
      "llvmlite                     0.41.1\n",
      "lxml                         4.9.3\n",
      "Markdown                     3.5.2\n",
      "markdown-it-py               3.0.0\n",
      "MarkupSafe                   2.1.3\n",
      "matplotlib                   3.8.0\n",
      "matplotlib-inline            0.1.6\n",
      "matplotlib-label-lines       0.3.0\n",
      "mdurl                        0.1.2\n",
      "missingno                    0.5.2\n",
      "mistune                      3.0.2\n",
      "ml-dtypes                    0.3.2\n",
      "mlxtend                      0.23.0\n",
      "mpmath                       1.3.0\n",
      "multimethod                  1.10\n",
      "multitasking                 0.0.11\n",
      "murmurhash                   1.0.10\n",
      "mysql-connector-python       8.0.30\n",
      "namex                        0.0.8\n",
      "nbclient                     0.7.4\n",
      "nbconvert                    7.9.2\n",
      "nbformat                     5.9.2\n",
      "nest-asyncio                 1.5.8\n",
      "networkx                     3.2.1\n",
      "nltk                         3.8.1\n",
      "notebook                     7.1.2\n",
      "notebook_shim                0.2.3\n",
      "numba                        0.58.1\n",
      "numpy                        1.25.2\n",
      "oauthlib                     3.2.2\n",
      "olefile                      0.46\n",
      "opencv-python                4.9.0.80\n",
      "openpyxl                     3.0.10\n",
      "opt-einsum                   3.3.0\n",
      "optree                       0.11.0\n",
      "overrides                    7.4.0\n",
      "packaging                    23.2\n",
      "pandas                       2.1.1\n",
      "pandas-datareader            0.10.0\n",
      "pandocfilters                1.5.0\n",
      "parso                        0.8.3\n",
      "patsy                        0.5.4\n",
      "pdfminer.six                 20191110\n",
      "peewee                       3.17.1\n",
      "phik                         0.12.3\n",
      "pickleshare                  0.7.5\n",
      "Pillow                       10.1.0\n",
      "pip                          24.2\n",
      "platformdirs                 3.11.0\n",
      "plotly                       5.17.0\n",
      "plotly-express               0.4.1\n",
      "preshed                      3.0.9\n",
      "prometheus-client            0.17.1\n",
      "prompt-toolkit               3.0.39\n",
      "protobuf                     4.25.2\n",
      "psutil                       5.9.6\n",
      "pure-eval                    0.2.2\n",
      "py-lief                      0.10.0\n",
      "py4j                         0.10.9.7\n",
      "pyarrow                      15.0.0\n",
      "pyasn1                       0.5.1\n",
      "pyasn1-modules               0.3.0\n",
      "pycparser                    2.21\n",
      "pycryptodome                 3.19.0\n",
      "pydantic                     2.5.2\n",
      "pydantic_core                2.14.5\n",
      "pydeck                       0.8.1b0\n",
      "pyfpgrowth                   1.0\n",
      "Pygments                     2.16.1\n",
      "pyparsing                    3.1.1\n",
      "pyspark                      3.5.1\n",
      "pyspellchecker               0.8.1\n",
      "python-dateutil              2.8.2\n",
      "python-dotenv                1.0.0\n",
      "python-json-logger           2.0.7\n",
      "python-multipart             0.0.6\n",
      "python-pptx                  0.6.23\n",
      "pytz                         2023.3.post1\n",
      "pywaffle                     1.1.0\n",
      "PyWavelets                   1.5.0\n",
      "pywin32                      306\n",
      "pywinpty                     2.0.12\n",
      "PyYAML                       6.0.1\n",
      "pyzmq                        25.1.1\n",
      "redis                        5.0.1\n",
      "referencing                  0.30.2\n",
      "regex                        2023.10.3\n",
      "requests                     2.31.0\n",
      "requests-oauthlib            1.3.1\n",
      "rfc3339-validator            0.1.4\n",
      "rfc3986-validator            0.1.1\n",
      "rich                         13.7.0\n",
      "rpds-py                      0.10.6\n",
      "rsa                          4.9\n",
      "safetensors                  0.4.3\n",
      "scikeras                     0.13.0\n",
      "scikit-image                 0.22.0\n",
      "scikit-learn                 1.4.2\n",
      "scikit-plot                  0.3.7\n",
      "scipy                        1.11.3\n",
      "seaborn                      0.12.2\n",
      "Send2Trash                   1.8.2\n",
      "sentencepiece                0.2.0\n",
      "setuptools                   69.2.0\n",
      "six                          1.12.0\n",
      "smart-open                   6.4.0\n",
      "smmap                        5.0.1\n",
      "sniffio                      1.3.0\n",
      "sortedcontainers             2.4.0\n",
      "soupsieve                    2.5\n",
      "spacy                        3.7.2\n",
      "spacy-legacy                 3.0.12\n",
      "spacy-loggers                1.0.5\n",
      "SpeechRecognition            3.8.1\n",
      "SQLAlchemy                   2.0.25\n",
      "srsly                        2.4.8\n",
      "stack-data                   0.6.3\n",
      "starlette                    0.32.0.post1\n",
      "statsmodels                  0.14.0\n",
      "streamlit                    1.31.0\n",
      "streamlit-reveal-slides      0.2.0\n",
      "sympy                        1.12\n",
      "tangled-up-in-unicode        0.2.0\n",
      "tenacity                     8.2.3\n",
      "tensorboard                  2.16.2\n",
      "tensorboard-data-server      0.7.2\n",
      "tensorflow                   2.16.1\n",
      "tensorflow-estimator         2.14.0\n",
      "tensorflow-intel             2.16.1\n",
      "tensorflow-io-gcs-filesystem 0.31.0\n",
      "termcolor                    2.4.0\n",
      "terminado                    0.17.1\n",
      "textblob                     0.18.0.post0\n",
      "textract                     1.6.5\n",
      "thinc                        8.2.3\n",
      "threadpoolctl                3.2.0\n",
      "tifffile                     2023.12.9\n",
      "tinycss2                     1.2.1\n",
      "tokenizers                   0.19.1\n",
      "toml                         0.10.2\n",
      "tomli                        2.0.1\n",
      "toolz                        0.12.1\n",
      "torch                        2.1.2\n",
      "tornado                      6.3.3\n",
      "tqdm                         4.66.1\n",
      "traitlets                    5.11.2\n",
      "transformers                 4.41.0\n",
      "typeguard                    4.1.5\n",
      "typer                        0.9.0\n",
      "types-python-dateutil        2.8.19.14\n",
      "typing_extensions            4.8.0\n",
      "tzdata                       2023.3\n",
      "tzlocal                      5.2\n",
      "Unidecode                    1.3.8\n",
      "uri-template                 1.3.0\n",
      "urllib3                      2.0.6\n",
      "uvicorn                      0.25.0\n",
      "validators                   0.22.0\n",
      "visions                      0.7.5\n",
      "voila                        0.5.4\n",
      "wasabi                       1.1.2\n",
      "watchdog                     3.0.0\n",
      "watchfiles                   0.21.0\n",
      "wcwidth                      0.2.8\n",
      "weasel                       0.3.4\n",
      "webcolors                    1.13\n",
      "webencodings                 0.5.1\n",
      "websocket-client             1.6.4\n",
      "websockets                   11.0.3\n",
      "Werkzeug                     3.0.1\n",
      "wheel                        0.42.0\n",
      "widgetsnbextension           4.0.9\n",
      "wordcloud                    1.9.2\n",
      "wrapt                        1.14.1\n",
      "xgboost                      2.0.3\n",
      "xlrd                         1.2.0\n",
      "XlsxWriter                   3.1.9\n",
      "ydata-profiling              4.6.3\n",
      "yfinance                     0.2.37\n",
      "zipp                         3.17.0\n"
     ]
    }
   ],
   "source": [
    "!pip list"
   ]
  },
  {
   "cell_type": "code",
   "execution_count": 2,
   "metadata": {},
   "outputs": [
    {
     "name": "stdout",
     "output_type": "stream",
     "text": [
      "d:\\ml project\\cv\\object detection\\real time od with yolo\\yolov8\\Scripts\\python.exe\n"
     ]
    }
   ],
   "source": [
    "import sys\n",
    "print(sys.executable)"
   ]
  },
  {
   "cell_type": "code",
   "execution_count": null,
   "metadata": {},
   "outputs": [],
   "source": [
    "import ultralytics"
   ]
  },
  {
   "cell_type": "code",
   "execution_count": null,
   "metadata": {},
   "outputs": [],
   "source": [
    "ultralytics.__version__"
   ]
  },
  {
   "cell_type": "code",
   "execution_count": 6,
   "metadata": {},
   "outputs": [
    {
     "name": "stderr",
     "output_type": "stream",
     "text": [
      "WARNING: Skipping ultralytics as it is not installed.\n"
     ]
    }
   ],
   "source": [
    "!pip uninstall ultralytics"
   ]
  },
  {
   "cell_type": "code",
   "execution_count": null,
   "metadata": {},
   "outputs": [],
   "source": [
    "!pip install ultralytics"
   ]
  },
  {
   "cell_type": "code",
   "execution_count": null,
   "metadata": {},
   "outputs": [],
   "source": []
  }
 ],
 "metadata": {
  "kernelspec": {
   "display_name": "yolov8",
   "language": "python",
   "name": "yolov8"
  },
  "language_info": {
   "codemirror_mode": {
    "name": "ipython",
    "version": 3
   },
   "file_extension": ".py",
   "mimetype": "text/x-python",
   "name": "python",
   "nbconvert_exporter": "python",
   "pygments_lexer": "ipython3",
   "version": "3.10.6"
  }
 },
 "nbformat": 4,
 "nbformat_minor": 4
}
